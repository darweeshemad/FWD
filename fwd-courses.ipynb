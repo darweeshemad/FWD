{
 "cells": [
  {
   "cell_type": "code",
   "execution_count": 1,
   "id": "94ba6560",
   "metadata": {
    "_cell_guid": "b1076dfc-b9ad-4769-8c92-a6c4dae69d19",
    "_uuid": "8f2839f25d086af736a60e9eeb907d3b93b6e0e5",
    "execution": {
     "iopub.execute_input": "2021-09-07T15:07:09.631178Z",
     "iopub.status.busy": "2021-09-07T15:07:09.630018Z",
     "iopub.status.idle": "2021-09-07T15:07:09.641635Z",
     "shell.execute_reply": "2021-09-07T15:07:09.642183Z",
     "shell.execute_reply.started": "2021-09-07T15:04:25.137209Z"
    },
    "papermill": {
     "duration": 0.022318,
     "end_time": "2021-09-07T15:07:09.642514",
     "exception": false,
     "start_time": "2021-09-07T15:07:09.620196",
     "status": "completed"
    },
    "tags": []
   },
   "outputs": [],
   "source": [
    "# This Python 3 environment comes with many helpful analytics libraries installed\n",
    "# It is defined by the kaggle/python Docker image: https://github.com/kaggle/docker-python\n",
    "# For example, here's several helpful packages to load\n",
    "\n",
    "import numpy as np # linear algebra\n",
    "import pandas as pd # data processing, CSV file I/O (e.g. pd.read_csv)\n",
    "\n",
    "# Input data files are available in the read-only \"../input/\" directory\n",
    "# For example, running this (by clicking run or pressing Shift+Enter) will list all files under the input directory\n",
    "\n",
    "import os\n",
    "for dirname, _, filenames in os.walk('/kaggle/input'):\n",
    "    for filename in filenames:\n",
    "        print(os.path.join(dirname, filename))\n",
    "\n",
    "# You can write up to 20GB to the current directory (/kaggle/working/) that gets preserved as output when you create a version using \"Save & Run All\" \n",
    "# You can also write temporary files to /kaggle/temp/, but they won't be saved outside of the current session"
   ]
  },
  {
   "cell_type": "markdown",
   "id": "cf77d65e",
   "metadata": {
    "papermill": {
     "duration": 0.004886,
     "end_time": "2021-09-07T15:07:09.653172",
     "exception": false,
     "start_time": "2021-09-07T15:07:09.648286",
     "status": "completed"
    },
    "tags": []
   },
   "source": [
    "**This notebook is recording the corde work done during the eFWD course track.**"
   ]
  },
  {
   "cell_type": "code",
   "execution_count": 2,
   "id": "5c60a8c2",
   "metadata": {
    "execution": {
     "iopub.execute_input": "2021-09-07T15:07:09.670346Z",
     "iopub.status.busy": "2021-09-07T15:07:09.669703Z",
     "iopub.status.idle": "2021-09-07T15:07:09.673567Z",
     "shell.execute_reply": "2021-09-07T15:07:09.674519Z",
     "shell.execute_reply.started": "2021-09-07T15:05:40.242278Z"
    },
    "papermill": {
     "duration": 0.016602,
     "end_time": "2021-09-07T15:07:09.674802",
     "exception": false,
     "start_time": "2021-09-07T15:07:09.658200",
     "status": "completed"
    },
    "tags": []
   },
   "outputs": [
    {
     "name": "stdout",
     "output_type": "stream",
     "text": [
      "35 is not a prime number, because 7 is a factor of 35\n",
      "17 is a prime number\n",
      "20 is not a prime number, because 5 is a factor of 20\n",
      "33 is not a prime number, because 3 is a factor of 33\n",
      "1 is a prime number\n"
     ]
    }
   ],
   "source": [
    "#This code targets identifying the prime number\n",
    "#for non-prime number, the code shall indicate the factors.\n",
    "\n",
    "check_prime = [35, 17, 20, 33, 1]\n",
    "factors=[2,3,5,7]\n",
    "selected_prime=[]\n",
    "selected_factor={}\n",
    "## write your code here\n",
    "for prime in check_prime:\n",
    "    for factor in factors:\n",
    "        if prime%factor==0:\n",
    "            selected_factor[prime]=factor\n",
    "    if len(selected_factor)>0:\n",
    "        print(\"{} is not a prime number, because {} is a factor of {}\".format(prime,selected_factor.get(prime),prime))\n",
    "        selected_factor={}\n",
    "    else:\n",
    "        print(\"{} is a prime number\".format(prime))"
   ]
  },
  {
   "cell_type": "code",
   "execution_count": 3,
   "id": "ab88dfb1",
   "metadata": {
    "execution": {
     "iopub.execute_input": "2021-09-07T15:07:09.690986Z",
     "iopub.status.busy": "2021-09-07T15:07:09.690281Z",
     "iopub.status.idle": "2021-09-07T15:07:09.700030Z",
     "shell.execute_reply": "2021-09-07T15:07:09.699485Z",
     "shell.execute_reply.started": "2021-09-07T15:04:25.212182Z"
    },
    "papermill": {
     "duration": 0.018173,
     "end_time": "2021-09-07T15:07:09.700168",
     "exception": false,
     "start_time": "2021-09-07T15:07:09.681995",
     "status": "completed"
    },
    "tags": []
   },
   "outputs": [
    {
     "name": "stdout",
     "output_type": "stream",
     "text": [
      "Local Bear Eaten by Man Legislature Announces New Laws Peasant Discovers Violence Inherent in System Cat Rescues Fireman Stuck in Tree Brave \n",
      "News Ticker Length is 141\n"
     ]
    }
   ],
   "source": [
    "#This code adds headlines to the news ticker with a maximum of 140 characters\n",
    "\n",
    "headlines = [\"Local Bear Eaten by Man\",\n",
    "             \"Legislature Announces New Laws\",\n",
    "             \"Peasant Discovers Violence Inherent in System\",\n",
    "             \"Cat Rescues Fireman Stuck in Tree\",\n",
    "             \"Brave Knight Runs Away\",\n",
    "             \"Papperbok Review: Totally Triffic\"]\n",
    "\n",
    "news_ticker = \"\"\n",
    "\n",
    "# write your loop here\n",
    "for headline in headlines:\n",
    "    if len(news_ticker)<=140:\n",
    "        title_list=headline.split()\n",
    "        #print(title_list)\n",
    "        for title in title_list:\n",
    "            if title==title_list[0] and len(news_ticker+title)<=140:\n",
    "                title=\"\"+title\n",
    "                news_ticker+=title+\" \"\n",
    "                len_news=len(news_ticker)\n",
    "                #print(\"News Ticker Length is{}\".format(len_news))\n",
    "            elif title!=title_list[0] and len(news_ticker+title)<=140:\n",
    "                news_ticker+=title+\" \"\n",
    "                len_news=len(news_ticker)\n",
    "                #print(\"News Ticker Length is{}\".format(len_news))\n",
    "    else:\n",
    "        break\n",
    "        \n",
    "print(news_ticker)\n",
    "print(\"News Ticker Length is {}\".format(len_news))"
   ]
  },
  {
   "cell_type": "code",
   "execution_count": 4,
   "id": "89ab1c55",
   "metadata": {
    "execution": {
     "iopub.execute_input": "2021-09-07T15:07:09.720737Z",
     "iopub.status.busy": "2021-09-07T15:07:09.719952Z",
     "iopub.status.idle": "2021-09-07T15:07:09.724564Z",
     "shell.execute_reply": "2021-09-07T15:07:09.724029Z",
     "shell.execute_reply.started": "2021-09-07T15:04:25.221174Z"
    },
    "papermill": {
     "duration": 0.018457,
     "end_time": "2021-09-07T15:07:09.724710",
     "exception": false,
     "start_time": "2021-09-07T15:07:09.706253",
     "status": "completed"
    },
    "tags": []
   },
   "outputs": [
    {
     "name": "stdout",
     "output_type": "stream",
     "text": [
      "The numbers of odd numbers added are: 5\n",
      "The sum of the odd numbers added is: 993\n"
     ]
    }
   ],
   "source": [
    "# This code adds the odd numbers only within the numbers list\n",
    "\n",
    "num_list = [422, 136, 524, 85, 96, 719, 85, 92, 10, 17, 312, 542, 87, 23, 86, 191, 116, 35, 173, 45, 149, 59, 84, 69, 113, 166]\n",
    "\n",
    "count_odd = 0\n",
    "list_sum = 0\n",
    "i = 0\n",
    "len_num_list = len(num_list)\n",
    "\n",
    "while (count_odd < 5) and (i < len_num_list): \n",
    "    if num_list[i] % 2 != 0:\n",
    "        list_sum += num_list[i]\n",
    "        count_odd += 1\n",
    "    i += 1\n",
    "\n",
    "print (\"The numbers of odd numbers added are: {}\".format(count_odd))\n",
    "print (\"The sum of the odd numbers added is: {}\".format(list_sum)) "
   ]
  }
 ],
 "metadata": {
  "kernelspec": {
   "display_name": "Python 3",
   "language": "python",
   "name": "python3"
  },
  "language_info": {
   "codemirror_mode": {
    "name": "ipython",
    "version": 3
   },
   "file_extension": ".py",
   "mimetype": "text/x-python",
   "name": "python",
   "nbconvert_exporter": "python",
   "pygments_lexer": "ipython3",
   "version": "3.7.10"
  },
  "papermill": {
   "default_parameters": {},
   "duration": 9.772727,
   "end_time": "2021-09-07T15:07:11.124469",
   "environment_variables": {},
   "exception": null,
   "input_path": "__notebook__.ipynb",
   "output_path": "__notebook__.ipynb",
   "parameters": {},
   "start_time": "2021-09-07T15:07:01.351742",
   "version": "2.3.3"
  }
 },
 "nbformat": 4,
 "nbformat_minor": 5
}
